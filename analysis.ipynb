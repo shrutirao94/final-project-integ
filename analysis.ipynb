{
 "cells": [
  {
   "cell_type": "markdown",
   "metadata": {},
   "source": [
    "# INTEG 475 Final Project: Biasedness of Useful Votes in Yelp Reviews\n",
    "\n",
    "|Name        | Student ID|\n",
    "|------------|-----------|\n",
    "|Arumoy Shome| 20460621  |\n",
    "|Shruti Rao  | 20455421  |"
   ]
  },
  {
   "cell_type": "markdown",
   "metadata": {},
   "source": [
    "## Introduction\n",
    "\n",
    "<img src=\"assets/review.png\" style=\"width: 100px;\"/>\n",
    "\n",
    "From its humble beginings as an email based referral network for doctors, Yelp has evolved into a billion dollar  publisher of crowd-sourced reviews about local businesses. Within Yelp, the value of a business depends directly on the information provided by users in the form of written reviews and photos. Potential customers can then view these user reviews and make more informed decisions about using a particular service provided by a business.\n",
    "\n",
    "To make user reviews more reliable for others, Yelp introduced a system of rating these user reviews as well. A user can manually upvote reviews as `useful` to indicate to other users that this piece of text provided meaningful information about a business from their perspective. However, relying on users to manually indicate utility can introduce bias that is unrelated to the actual relevance of the review text. For local businesses and users who are increasingly reliant on such systems over traditional food critiques, the legitimacy of a review can make or break an experience. \n",
    "\n",
    "The idea of usefulness is a complicated one, affected by user’s perception and needs. In the case of online reviews, the utility of the text to a user is how well it provides relevant information about the interaction with the business in question. However, because different users have different needs, the value of the supposed relevant information within a review will differ. For a system like Yelp, while user labels of value can provide an additional layer of filtering, it is clear that differences exist in exactly how “usefulness” can be defined between individuals. \n",
    "\n",
    "In this project, first a benchmark model is created to predicts a review’s “usefulness” based on review-text. Other models that incorporate other non-review-text related features are then created and compared against the benchmark in order to identify if bias exists when users manually label reviews as “useful”. If bias does exist, knowing the specific features that cause this can be used to better tweak Yelp’s ecosystem to surface unbiased information for users.\n",
    "    \n",
    "    \n",
    "## Research Question\n",
    "Do users actually read a review before voting it useful or is their influenced by the presence of previsouly registered `cool`, `funny` and `useful` votes.\n",
    "\n",
    "\n",
    "## Background\n",
    "There exists a large amount of existing research about online reviews based on the Yelp dataset. The dataset itself is open source and updated with new data annually, encouraging new developments in the review analysis space each year [1]. \n",
    "\n",
    "A literature review found that while there are a variety of different techniques [2, 3] being used to analyze review data, random forest classifiers are incredibly popular [4, 5]. One group used Bag-of-Words on review data  combined with features from user and business datasets to predict the required numeric value of the “usefulness” of a review with a batch mode localized weighted regression model. This localized regression approach resulted into RMSLE of 0.47769 [2]. Others compared SVM with logistic regression with Lasso to identify that the latter was the best with lower training error [3]. However, in comparison, using a random forest model with 150 estimators, the square root of original feature numbers to get maximum features, with ten minimum number of leaves to split, and no maximum depth lead to a model accuracy of 0.698926 [4]. Further improvements using random forest prediction with five fold cross validation were able to achieve an accuracy rate of 79% [5].  Another group took this even further and was able to achieve 95% accuracy in correctly labelling a review as useful using this random forest classifier approach [6]. \n",
    "\n",
    "In parallel with this research into predicting the “usefulness” of a review is developing an understanding of what skews bias in online reviews. Studies use Amazon and Yelp data to look at what features specific to these two ecosystems cause bias in user perception of review value. Typically, a review is seen relative to other reviews. In a study using over 4 million Amazon book reviews for roughly 675 000 books, the perceived usefulness of reviews was dependent on its relationship to other reviews, not only its content [10]. Information about the reviewer themselves can also affect the perceived utility of a review [8]. Yelp restaurant reviews had their “usefulness” affected by user-based features more than detailed information within the review about the features of the restaurant [9]. More specifically, another group looking at over 72 000 Yelp reviews found that neutral and negative reviews by locals were seen as more useful, even if the information within the review was not necessarily valuable [10].\n",
    "\n",
    "The novelty of this paper is found in the granular approach to which Yelp dataset-specific features are considered. Instead of a broad generalization of what creates bias, the focus is on features with high correlation with review “usefulness” in order to understand if they bias users.\n"
   ]
  },
  {
   "cell_type": "markdown",
   "metadata": {},
   "source": [
    "# Analysis"
   ]
  },
  {
   "cell_type": "code",
   "execution_count": 44,
   "metadata": {},
   "outputs": [],
   "source": [
    "import pandas as pd\n",
    "import numpy as np\n",
    "import matplotlib.pyplot as plt\n",
    "\n",
    "% matplotlib inline\n",
    "\n",
    "from sklearn import metrics\n",
    "from sklearn.utils import shuffle\n",
    "from sklearn.preprocessing import normalize\n",
    "from sklearn.feature_extraction.text import TfidfVectorizer\n",
    "from sklearn.feature_selection import VarianceThreshold\n",
    "from sklearn.model_selection import train_test_split, cross_val_score, learning_curve\n",
    "from sklearn.ensemble import RandomForestClassifier\n",
    "from sklearn.naive_bayes import MultinomialNB\n",
    "from sklearn.svm import LinearSVC\n",
    "\n",
    "\n",
    "from scipy.sparse import csr_matrix, csc_matrix, hstack, vstack"
   ]
  },
  {
   "cell_type": "code",
   "execution_count": 45,
   "metadata": {},
   "outputs": [],
   "source": [
    "reviews = pd.read_csv('dataset/review.csv', usecols=['text', 'useful', 'cool', 'funny'])"
   ]
  },
  {
   "cell_type": "markdown",
   "metadata": {},
   "source": [
    "## Data Exploration"
   ]
  },
  {
   "cell_type": "code",
   "execution_count": 46,
   "metadata": {},
   "outputs": [
    {
     "data": {
      "text/html": [
       "<div>\n",
       "<style scoped>\n",
       "    .dataframe tbody tr th:only-of-type {\n",
       "        vertical-align: middle;\n",
       "    }\n",
       "\n",
       "    .dataframe tbody tr th {\n",
       "        vertical-align: top;\n",
       "    }\n",
       "\n",
       "    .dataframe thead th {\n",
       "        text-align: right;\n",
       "    }\n",
       "</style>\n",
       "<table border=\"1\" class=\"dataframe\">\n",
       "  <thead>\n",
       "    <tr style=\"text-align: right;\">\n",
       "      <th></th>\n",
       "      <th>funny</th>\n",
       "      <th>text</th>\n",
       "      <th>useful</th>\n",
       "      <th>cool</th>\n",
       "    </tr>\n",
       "  </thead>\n",
       "  <tbody>\n",
       "    <tr>\n",
       "      <th>4203968</th>\n",
       "      <td>0</td>\n",
       "      <td>Cornish Pasty saved our Mothers Day! After hav...</td>\n",
       "      <td>-1</td>\n",
       "      <td>-1</td>\n",
       "    </tr>\n",
       "    <tr>\n",
       "      <th>0</th>\n",
       "      <td>0</td>\n",
       "      <td>Love the staff, love the meat, love the place....</td>\n",
       "      <td>0</td>\n",
       "      <td>0</td>\n",
       "    </tr>\n",
       "    <tr>\n",
       "      <th>2953500</th>\n",
       "      <td>0</td>\n",
       "      <td>Love their Baja fish taco. I love that you can...</td>\n",
       "      <td>0</td>\n",
       "      <td>0</td>\n",
       "    </tr>\n",
       "    <tr>\n",
       "      <th>2953501</th>\n",
       "      <td>0</td>\n",
       "      <td>I love the bamboo drink ~~! it was cute the fi...</td>\n",
       "      <td>0</td>\n",
       "      <td>0</td>\n",
       "    </tr>\n",
       "    <tr>\n",
       "      <th>2953502</th>\n",
       "      <td>0</td>\n",
       "      <td>REALLY REALLY GOOD~!~\\nTHE option (fried porte...</td>\n",
       "      <td>0</td>\n",
       "      <td>0</td>\n",
       "    </tr>\n",
       "  </tbody>\n",
       "</table>\n",
       "</div>"
      ],
      "text/plain": [
       "         funny                                               text  useful  \\\n",
       "4203968      0  Cornish Pasty saved our Mothers Day! After hav...      -1   \n",
       "0            0  Love the staff, love the meat, love the place....       0   \n",
       "2953500      0  Love their Baja fish taco. I love that you can...       0   \n",
       "2953501      0  I love the bamboo drink ~~! it was cute the fi...       0   \n",
       "2953502      0  REALLY REALLY GOOD~!~\\nTHE option (fried porte...       0   \n",
       "\n",
       "         cool  \n",
       "4203968    -1  \n",
       "0           0  \n",
       "2953500     0  \n",
       "2953501     0  \n",
       "2953502     0  "
      ]
     },
     "execution_count": 46,
     "metadata": {},
     "output_type": "execute_result"
    }
   ],
   "source": [
    "reviews.sort_values(by='useful').head()"
   ]
  },
  {
   "cell_type": "code",
   "execution_count": 47,
   "metadata": {},
   "outputs": [
    {
     "data": {
      "text/html": [
       "<div>\n",
       "<style scoped>\n",
       "    .dataframe tbody tr th:only-of-type {\n",
       "        vertical-align: middle;\n",
       "    }\n",
       "\n",
       "    .dataframe tbody tr th {\n",
       "        vertical-align: top;\n",
       "    }\n",
       "\n",
       "    .dataframe thead th {\n",
       "        text-align: right;\n",
       "    }\n",
       "</style>\n",
       "<table border=\"1\" class=\"dataframe\">\n",
       "  <thead>\n",
       "    <tr style=\"text-align: right;\">\n",
       "      <th></th>\n",
       "      <th>funny</th>\n",
       "      <th>useful</th>\n",
       "      <th>cool</th>\n",
       "    </tr>\n",
       "  </thead>\n",
       "  <tbody>\n",
       "    <tr>\n",
       "      <th>count</th>\n",
       "      <td>5.261669e+06</td>\n",
       "      <td>5.261669e+06</td>\n",
       "      <td>5.261669e+06</td>\n",
       "    </tr>\n",
       "    <tr>\n",
       "      <th>mean</th>\n",
       "      <td>5.091960e-01</td>\n",
       "      <td>1.385085e+00</td>\n",
       "      <td>5.860916e-01</td>\n",
       "    </tr>\n",
       "    <tr>\n",
       "      <th>std</th>\n",
       "      <td>2.686168e+00</td>\n",
       "      <td>4.528727e+00</td>\n",
       "      <td>2.233706e+00</td>\n",
       "    </tr>\n",
       "    <tr>\n",
       "      <th>min</th>\n",
       "      <td>0.000000e+00</td>\n",
       "      <td>-1.000000e+00</td>\n",
       "      <td>-1.000000e+00</td>\n",
       "    </tr>\n",
       "    <tr>\n",
       "      <th>25%</th>\n",
       "      <td>0.000000e+00</td>\n",
       "      <td>0.000000e+00</td>\n",
       "      <td>0.000000e+00</td>\n",
       "    </tr>\n",
       "    <tr>\n",
       "      <th>50%</th>\n",
       "      <td>0.000000e+00</td>\n",
       "      <td>0.000000e+00</td>\n",
       "      <td>0.000000e+00</td>\n",
       "    </tr>\n",
       "    <tr>\n",
       "      <th>75%</th>\n",
       "      <td>0.000000e+00</td>\n",
       "      <td>2.000000e+00</td>\n",
       "      <td>1.000000e+00</td>\n",
       "    </tr>\n",
       "    <tr>\n",
       "      <th>max</th>\n",
       "      <td>1.481000e+03</td>\n",
       "      <td>3.364000e+03</td>\n",
       "      <td>1.105000e+03</td>\n",
       "    </tr>\n",
       "  </tbody>\n",
       "</table>\n",
       "</div>"
      ],
      "text/plain": [
       "              funny        useful          cool\n",
       "count  5.261669e+06  5.261669e+06  5.261669e+06\n",
       "mean   5.091960e-01  1.385085e+00  5.860916e-01\n",
       "std    2.686168e+00  4.528727e+00  2.233706e+00\n",
       "min    0.000000e+00 -1.000000e+00 -1.000000e+00\n",
       "25%    0.000000e+00  0.000000e+00  0.000000e+00\n",
       "50%    0.000000e+00  0.000000e+00  0.000000e+00\n",
       "75%    0.000000e+00  2.000000e+00  1.000000e+00\n",
       "max    1.481000e+03  3.364000e+03  1.105000e+03"
      ]
     },
     "execution_count": 47,
     "metadata": {},
     "output_type": "execute_result"
    }
   ],
   "source": [
    "reviews.describe()"
   ]
  },
  {
   "cell_type": "code",
   "execution_count": 48,
   "metadata": {},
   "outputs": [
    {
     "data": {
      "text/html": [
       "<div>\n",
       "<style scoped>\n",
       "    .dataframe tbody tr th:only-of-type {\n",
       "        vertical-align: middle;\n",
       "    }\n",
       "\n",
       "    .dataframe tbody tr th {\n",
       "        vertical-align: top;\n",
       "    }\n",
       "\n",
       "    .dataframe thead th {\n",
       "        text-align: right;\n",
       "    }\n",
       "</style>\n",
       "<table border=\"1\" class=\"dataframe\">\n",
       "  <thead>\n",
       "    <tr style=\"text-align: right;\">\n",
       "      <th></th>\n",
       "      <th>funny</th>\n",
       "      <th>useful</th>\n",
       "      <th>cool</th>\n",
       "    </tr>\n",
       "  </thead>\n",
       "  <tbody>\n",
       "    <tr>\n",
       "      <th>funny</th>\n",
       "      <td>1.000000</td>\n",
       "      <td>0.621663</td>\n",
       "      <td>0.661669</td>\n",
       "    </tr>\n",
       "    <tr>\n",
       "      <th>useful</th>\n",
       "      <td>0.621663</td>\n",
       "      <td>1.000000</td>\n",
       "      <td>0.677069</td>\n",
       "    </tr>\n",
       "    <tr>\n",
       "      <th>cool</th>\n",
       "      <td>0.661669</td>\n",
       "      <td>0.677069</td>\n",
       "      <td>1.000000</td>\n",
       "    </tr>\n",
       "  </tbody>\n",
       "</table>\n",
       "</div>"
      ],
      "text/plain": [
       "           funny    useful      cool\n",
       "funny   1.000000  0.621663  0.661669\n",
       "useful  0.621663  1.000000  0.677069\n",
       "cool    0.661669  0.677069  1.000000"
      ]
     },
     "execution_count": 48,
     "metadata": {},
     "output_type": "execute_result"
    }
   ],
   "source": [
    "# correlations\n",
    "reviews.corr()"
   ]
  },
  {
   "cell_type": "markdown",
   "metadata": {},
   "source": [
    "## Data Sampling"
   ]
  },
  {
   "cell_type": "markdown",
   "metadata": {},
   "source": [
    "We need to make sure that we have equal number of data points for each label. We will label a review `useful` if it has received 1 or more `useful` votes, and those with votes lesser than 1 as *not useful*.\n",
    "\n",
    "The following cell randomly samples for a predefined number (defined by `SAMPLE_SIZE`) of *useful* and *not useful* reviews. The dataframes are then concatenated together and the resulting df is then shuffled."
   ]
  },
  {
   "cell_type": "code",
   "execution_count": 49,
   "metadata": {},
   "outputs": [
    {
     "name": "stdout",
     "output_type": "stream",
     "text": [
      "useful_reviews shape:  (5000, 4)\n",
      "not_useful_reviews shape:  (5000, 4)\n"
     ]
    },
    {
     "data": {
      "text/html": [
       "<div>\n",
       "<style scoped>\n",
       "    .dataframe tbody tr th:only-of-type {\n",
       "        vertical-align: middle;\n",
       "    }\n",
       "\n",
       "    .dataframe tbody tr th {\n",
       "        vertical-align: top;\n",
       "    }\n",
       "\n",
       "    .dataframe thead th {\n",
       "        text-align: right;\n",
       "    }\n",
       "</style>\n",
       "<table border=\"1\" class=\"dataframe\">\n",
       "  <thead>\n",
       "    <tr style=\"text-align: right;\">\n",
       "      <th></th>\n",
       "      <th>funny</th>\n",
       "      <th>text</th>\n",
       "      <th>useful</th>\n",
       "      <th>cool</th>\n",
       "    </tr>\n",
       "  </thead>\n",
       "  <tbody>\n",
       "    <tr>\n",
       "      <th>1071161</th>\n",
       "      <td>0</td>\n",
       "      <td>Serious....\\nSP Fries....\\nWings\\nreally, this...</td>\n",
       "      <td>0</td>\n",
       "      <td>0</td>\n",
       "    </tr>\n",
       "    <tr>\n",
       "      <th>4510646</th>\n",
       "      <td>0</td>\n",
       "      <td>we went on a wednesday night. no line at all w...</td>\n",
       "      <td>0</td>\n",
       "      <td>0</td>\n",
       "    </tr>\n",
       "    <tr>\n",
       "      <th>5019772</th>\n",
       "      <td>0</td>\n",
       "      <td>This place is officially off of our rotation a...</td>\n",
       "      <td>3</td>\n",
       "      <td>2</td>\n",
       "    </tr>\n",
       "    <tr>\n",
       "      <th>439795</th>\n",
       "      <td>1</td>\n",
       "      <td>Not very impressed with Spirits. \\n\\nI came he...</td>\n",
       "      <td>2</td>\n",
       "      <td>0</td>\n",
       "    </tr>\n",
       "    <tr>\n",
       "      <th>3797712</th>\n",
       "      <td>0</td>\n",
       "      <td>Bragg's is located on Grand Ave -- one of the ...</td>\n",
       "      <td>0</td>\n",
       "      <td>0</td>\n",
       "    </tr>\n",
       "  </tbody>\n",
       "</table>\n",
       "</div>"
      ],
      "text/plain": [
       "         funny                                               text  useful  \\\n",
       "1071161      0  Serious....\\nSP Fries....\\nWings\\nreally, this...       0   \n",
       "4510646      0  we went on a wednesday night. no line at all w...       0   \n",
       "5019772      0  This place is officially off of our rotation a...       3   \n",
       "439795       1  Not very impressed with Spirits. \\n\\nI came he...       2   \n",
       "3797712      0  Bragg's is located on Grand Ave -- one of the ...       0   \n",
       "\n",
       "         cool  \n",
       "1071161     0  \n",
       "4510646     0  \n",
       "5019772     2  \n",
       "439795      0  \n",
       "3797712     0  "
      ]
     },
     "execution_count": 49,
     "metadata": {},
     "output_type": "execute_result"
    }
   ],
   "source": [
    "THRESHOLD = 1\n",
    "SAMPLE_SIZE = 5000\n",
    "\n",
    "useful_reviews = reviews.loc[reviews['useful'] >= THRESHOLD].sample(SAMPLE_SIZE)\n",
    "not_useful_reviews = reviews.loc[reviews['useful'] < THRESHOLD].sample(SAMPLE_SIZE)\n",
    "print(\"useful_reviews shape: \", useful_reviews.shape)\n",
    "print(\"not_useful_reviews shape: \", not_useful_reviews.shape)\n",
    "\n",
    "reviews = shuffle(pd.concat([useful_reviews, not_useful_reviews]))\n",
    "reviews.head()"
   ]
  },
  {
   "cell_type": "markdown",
   "metadata": {},
   "source": [
    "## Preprocessing and Feature Extraction\n",
    "\n",
    "We are using the [`TfidfVectorizer`](http://scikit-learn.org/stable/modules/generated/sklearn.feature_extraction.text.TfidfVectorizer.html) for feature extraction from the `text` column. For this column, a custom `analyzer` method namely `review_process` is written which:\n",
    "1. removes all punctuations and\n",
    "3. removes new line characters (escape sequence)\n",
    "\n",
    "`TfidfVectorizer` class is then set to:\n",
    "2. remove accents\n",
    "2. remove all stopwords\n",
    "3. lowercase all words\n",
    "\n",
    "For `useful` votes:\n",
    "2. remove df row if `useful` is `NaN`"
   ]
  },
  {
   "cell_type": "code",
   "execution_count": 50,
   "metadata": {},
   "outputs": [
    {
     "name": "stdout",
     "output_type": "stream",
     "text": [
      "reviews shape after dropping NaN values:  (10000, 4)\n"
     ]
    }
   ],
   "source": [
    "reviews.dropna(inplace=True)\n",
    "print(\"reviews shape after dropping NaN values: \", reviews.shape)"
   ]
  },
  {
   "cell_type": "code",
   "execution_count": 51,
   "metadata": {},
   "outputs": [],
   "source": [
    "import string\n",
    "import re\n",
    "\n",
    "RE_NEWLINE = '\\n+'\n",
    "PUNCTUATIONS = string.punctuation\n",
    "\n",
    "def review_process(review):\n",
    "    no_newline = re.sub(RE_NEWLINE, '', review)\n",
    "    no_punc = ''.join([char for char in no_newline if char not in PUNCTUATIONS])\n",
    "    \n",
    "    return no_punc"
   ]
  },
  {
   "cell_type": "code",
   "execution_count": 52,
   "metadata": {},
   "outputs": [
    {
     "name": "stdout",
     "output_type": "stream",
     "text": [
      "a str with some 2 punctuations 6546721 and numbers   \n"
     ]
    }
   ],
   "source": [
    "test = \"a str.. with! some @2 punctuations 6546721 and numbers \\n [] \\n\"\n",
    "print(review_process(test))"
   ]
  },
  {
   "cell_type": "code",
   "execution_count": 53,
   "metadata": {},
   "outputs": [
    {
     "data": {
      "text/plain": [
       "TfidfVectorizer(analyzer='word', binary=False, decode_error='strict',\n",
       "        dtype=<class 'numpy.int64'>, encoding='utf-8', input='content',\n",
       "        lowercase=True, max_df=1.0, max_features=None, min_df=1,\n",
       "        ngram_range=(1, 1), norm='l2',\n",
       "        preprocessor=<function review_process at 0x10b9490d0>,\n",
       "        smooth_idf=True, stop_words='english', strip_accents='ascii',\n",
       "        sublinear_tf=False, token_pattern='(?u)\\\\b\\\\w\\\\w+\\\\b',\n",
       "        tokenizer=None, use_idf=True, vocabulary=None)"
      ]
     },
     "execution_count": 53,
     "metadata": {},
     "output_type": "execute_result"
    }
   ],
   "source": [
    "vect = TfidfVectorizer(strip_accents='ascii', preprocessor=review_process, stop_words='english' )\n",
    "vect"
   ]
  },
  {
   "cell_type": "markdown",
   "metadata": {},
   "source": [
    "## Generating labels\n",
    "\n",
    "We assign a label of **1** to reviews that are *useful* and a label of **0** to those which are *not useful*."
   ]
  },
  {
   "cell_type": "code",
   "execution_count": 54,
   "metadata": {},
   "outputs": [],
   "source": [
    "import math\n",
    "\n",
    "NOT_USEFUL = 0\n",
    "USEFUL = 1\n",
    "\n",
    "def labeler(vote):\n",
    "    if math.floor(vote) < THRESHOLD:\n",
    "        return NOT_USEFUL\n",
    "    else:\n",
    "        return USEFUL"
   ]
  },
  {
   "cell_type": "code",
   "execution_count": 55,
   "metadata": {},
   "outputs": [
    {
     "data": {
      "text/html": [
       "<div>\n",
       "<style scoped>\n",
       "    .dataframe tbody tr th:only-of-type {\n",
       "        vertical-align: middle;\n",
       "    }\n",
       "\n",
       "    .dataframe tbody tr th {\n",
       "        vertical-align: top;\n",
       "    }\n",
       "\n",
       "    .dataframe thead th {\n",
       "        text-align: right;\n",
       "    }\n",
       "</style>\n",
       "<table border=\"1\" class=\"dataframe\">\n",
       "  <thead>\n",
       "    <tr style=\"text-align: right;\">\n",
       "      <th></th>\n",
       "      <th>funny</th>\n",
       "      <th>text</th>\n",
       "      <th>useful</th>\n",
       "      <th>cool</th>\n",
       "      <th>label</th>\n",
       "    </tr>\n",
       "  </thead>\n",
       "  <tbody>\n",
       "    <tr>\n",
       "      <th>1071161</th>\n",
       "      <td>0</td>\n",
       "      <td>Serious....\\nSP Fries....\\nWings\\nreally, this...</td>\n",
       "      <td>0</td>\n",
       "      <td>0</td>\n",
       "      <td>0</td>\n",
       "    </tr>\n",
       "    <tr>\n",
       "      <th>4510646</th>\n",
       "      <td>0</td>\n",
       "      <td>we went on a wednesday night. no line at all w...</td>\n",
       "      <td>0</td>\n",
       "      <td>0</td>\n",
       "      <td>0</td>\n",
       "    </tr>\n",
       "    <tr>\n",
       "      <th>5019772</th>\n",
       "      <td>0</td>\n",
       "      <td>This place is officially off of our rotation a...</td>\n",
       "      <td>3</td>\n",
       "      <td>2</td>\n",
       "      <td>1</td>\n",
       "    </tr>\n",
       "    <tr>\n",
       "      <th>439795</th>\n",
       "      <td>1</td>\n",
       "      <td>Not very impressed with Spirits. \\n\\nI came he...</td>\n",
       "      <td>2</td>\n",
       "      <td>0</td>\n",
       "      <td>1</td>\n",
       "    </tr>\n",
       "    <tr>\n",
       "      <th>3797712</th>\n",
       "      <td>0</td>\n",
       "      <td>Bragg's is located on Grand Ave -- one of the ...</td>\n",
       "      <td>0</td>\n",
       "      <td>0</td>\n",
       "      <td>0</td>\n",
       "    </tr>\n",
       "  </tbody>\n",
       "</table>\n",
       "</div>"
      ],
      "text/plain": [
       "         funny                                               text  useful  \\\n",
       "1071161      0  Serious....\\nSP Fries....\\nWings\\nreally, this...       0   \n",
       "4510646      0  we went on a wednesday night. no line at all w...       0   \n",
       "5019772      0  This place is officially off of our rotation a...       3   \n",
       "439795       1  Not very impressed with Spirits. \\n\\nI came he...       2   \n",
       "3797712      0  Bragg's is located on Grand Ave -- one of the ...       0   \n",
       "\n",
       "         cool  label  \n",
       "1071161     0      0  \n",
       "4510646     0      0  \n",
       "5019772     2      1  \n",
       "439795      0      1  \n",
       "3797712     0      0  "
      ]
     },
     "execution_count": 55,
     "metadata": {},
     "output_type": "execute_result"
    }
   ],
   "source": [
    "reviews['label'] = reviews['useful'].apply(labeler)\n",
    "    \n",
    "reviews.head()"
   ]
  },
  {
   "cell_type": "markdown",
   "metadata": {},
   "source": [
    "## Cross validation\n",
    "\n",
    "Cross-validation is an approach that prevents over-fitting and helps generalize our model better.\n",
    "We will use [K-fold validation](http://scikit-learn.org/stable/modules/cross_validation.html#k-fold) with 5 folds using `cross_val_score` from `sklearn.model_selection` which by default used K-fold validation. `cross_val_score` trains and validates the classifier with *k-1* folds and tests with the remaining fold which means we do not have to create testing and training splits manually."
   ]
  },
  {
   "cell_type": "code",
   "execution_count": 56,
   "metadata": {},
   "outputs": [],
   "source": [
    "X = reviews[['text', 'useful', 'cool']]\n",
    "Y = reviews['label']"
   ]
  },
  {
   "cell_type": "code",
   "execution_count": 57,
   "metadata": {},
   "outputs": [],
   "source": [
    "def print_percent(flt):\n",
    "    pretty = \"%.2f\" % (flt*100)\n",
    "    \n",
    "    return \"{0}%\".format(pretty)"
   ]
  },
  {
   "cell_type": "markdown",
   "metadata": {},
   "source": [
    "## Instantiate classifiers\n",
    "\n",
    "We will be using 3 classifiers for this analysis namely, [*Multinomial Naive Bayes*](http://scikit-learn.org/stable/modules/naive_bayes.html#multinomial-naive-bayes), [*Linear SVM*](http://scikit-learn.org/stable/modules/generated/sklearn.svm.LinearSVC.html#sklearn.svm.LinearSVC) and [*Random Forest*](http://scikit-learn.org/stable/modules/ensemble.html#random-forests). These classifiers were choosen as they were the most frequent choices in several papers written on the matter [4, 5, 6, 10]."
   ]
  },
  {
   "cell_type": "code",
   "execution_count": 58,
   "metadata": {},
   "outputs": [
    {
     "name": "stdout",
     "output_type": "stream",
     "text": [
      "MultinomialNB(alpha=1.0, class_prior=None, fit_prior=True)\n",
      "\n",
      "\n",
      "LinearSVC(C=1.0, class_weight=None, dual=True, fit_intercept=True,\n",
      "     intercept_scaling=1, loss='squared_hinge', max_iter=1000,\n",
      "     multi_class='ovr', penalty='l2', random_state=None, tol=0.0001,\n",
      "     verbose=0)\n",
      "\n",
      "\n",
      "RandomForestClassifier(bootstrap=True, class_weight=None, criterion='gini',\n",
      "            max_depth=None, max_features='auto', max_leaf_nodes=None,\n",
      "            min_impurity_decrease=0.0, min_impurity_split=None,\n",
      "            min_samples_leaf=1, min_samples_split=2,\n",
      "            min_weight_fraction_leaf=0.0, n_estimators=10, n_jobs=1,\n",
      "            oob_score=False, random_state=None, verbose=0,\n",
      "            warm_start=False)\n"
     ]
    }
   ],
   "source": [
    "mn_clas = MultinomialNB()\n",
    "print(mn_clas)\n",
    "print(\"\\n\")\n",
    "\n",
    "svc_clas = LinearSVC()\n",
    "print(svc_clas)\n",
    "print(\"\\n\")\n",
    "\n",
    "rf_clas = RandomForestClassifier()\n",
    "print(rf_clas)"
   ]
  },
  {
   "cell_type": "markdown",
   "metadata": {},
   "source": [
    "## Model 1: Training with `text`\n",
    "\n",
    "Under this model, only the `text` column is used as the training data and the mean of their scores are printed."
   ]
  },
  {
   "cell_type": "code",
   "execution_count": 59,
   "metadata": {},
   "outputs": [
    {
     "name": "stdout",
     "output_type": "stream",
     "text": [
      "shape of X1 after feature extraction:  (10000, 48021)\n"
     ]
    }
   ],
   "source": [
    "# feature extraction\n",
    "X1 = vect.fit_transform(X['text'])\n",
    "print(\"shape of X1 after feature extraction: \", X1.shape)"
   ]
  },
  {
   "cell_type": "code",
   "execution_count": 60,
   "metadata": {},
   "outputs": [],
   "source": [
    "mn_scores = cross_val_score(mn_clas, X1, Y, cv=5)\n",
    "svc_scores = cross_val_score(svc_clas, X1, Y, cv=5)\n",
    "rf_scores = cross_val_score(rf_clas, X1, Y, cv=5)"
   ]
  },
  {
   "cell_type": "code",
   "execution_count": 61,
   "metadata": {},
   "outputs": [
    {
     "name": "stdout",
     "output_type": "stream",
     "text": [
      "Naive Bayes score:  58.99%\n",
      "Linear SVC score:  58.90%\n",
      "Random Forest score:  59.28%\n"
     ]
    }
   ],
   "source": [
    "print(\"Naive Bayes score: \", print_percent(mn_scores.mean()))\n",
    "print(\"Linear SVC score: \", print_percent(svc_scores.mean()))\n",
    "print(\"Random Forest score: \", print_percent(rf_scores.mean()))"
   ]
  },
  {
   "cell_type": "markdown",
   "metadata": {},
   "source": [
    "## Model 2: Training with `text` and `useful` Votes\n",
    "\n",
    "Since X now contains mixed dtypes, we need to be a bit clever. First, we convert `useful` column for train and test into sparse matrix and *I2* normalize them (I2 is the default for `TfidfVectorizer` so that's what we use here as well).\n",
    "\n",
    "The rest is straight forward, we create our updated X by stacking the `useful` sparse matrices with X horizontally (such that the number of feature increases). "
   ]
  },
  {
   "cell_type": "code",
   "execution_count": 62,
   "metadata": {},
   "outputs": [
    {
     "name": "stdout",
     "output_type": "stream",
     "text": [
      "type of useful_sparse_train:  <class 'scipy.sparse.csr.csr_matrix'>\n",
      "shape of useful_sparse_train:  (1, 10000)\n"
     ]
    }
   ],
   "source": [
    "useful_sparse_train = normalize(csr_matrix(X['useful']))\n",
    "print(\"type of useful_sparse_train: \", type(useful_sparse_train))\n",
    "print(\"shape of useful_sparse_train: \", useful_sparse_train.shape)"
   ]
  },
  {
   "cell_type": "code",
   "execution_count": 63,
   "metadata": {},
   "outputs": [
    {
     "name": "stdout",
     "output_type": "stream",
     "text": [
      "shape of X2:  (10000, 48022)\n"
     ]
    }
   ],
   "source": [
    "X2 = hstack([X1, useful_sparse_train.T])\n",
    "print(\"shape of X2: \", X2.shape)"
   ]
  },
  {
   "cell_type": "markdown",
   "metadata": {},
   "source": [
    "Note that the number of features of X2 has increased by 1 since we are using the `useful` column as a feature for training."
   ]
  },
  {
   "cell_type": "code",
   "execution_count": 64,
   "metadata": {},
   "outputs": [],
   "source": [
    "mn_scores = cross_val_score(mn_clas, X2, Y, cv=5)\n",
    "svc_scores = cross_val_score(svc_clas, X2, Y, cv=5)\n",
    "rf_scores = cross_val_score(rf_clas, X2, Y, cv=5)"
   ]
  },
  {
   "cell_type": "code",
   "execution_count": 65,
   "metadata": {},
   "outputs": [
    {
     "name": "stdout",
     "output_type": "stream",
     "text": [
      "Naive Bayes score:  59.61%\n",
      "Linear SVC score:  63.10%\n",
      "Random Forest score:  87.65%\n"
     ]
    }
   ],
   "source": [
    "print(\"Naive Bayes score: \", print_percent(mn_scores.mean()))\n",
    "print(\"Linear SVC score: \", print_percent(svc_scores.mean()))\n",
    "print(\"Random Forest score: \", print_percent(rf_scores.mean()))"
   ]
  },
  {
   "cell_type": "markdown",
   "metadata": {},
   "source": [
    "## Model 3: Training with `text` and `cool` Votes\n",
    "\n",
    "Next we will carry out the analysis with `text` and `cool` votes. We choose `cool` votes since it had the second highest correlation with `useful` (see section: Data Exploration)."
   ]
  },
  {
   "cell_type": "code",
   "execution_count": 66,
   "metadata": {},
   "outputs": [],
   "source": [
    "cool_sparse_train = normalize(csr_matrix(X['cool']))"
   ]
  },
  {
   "cell_type": "code",
   "execution_count": 67,
   "metadata": {},
   "outputs": [
    {
     "name": "stdout",
     "output_type": "stream",
     "text": [
      "shape of X3:  (10000, 48022)\n"
     ]
    }
   ],
   "source": [
    "X3 = hstack([X1, cool_sparse_train.T])\n",
    "print(\"shape of X3: \", X3.shape)"
   ]
  },
  {
   "cell_type": "code",
   "execution_count": 68,
   "metadata": {},
   "outputs": [],
   "source": [
    "mn_scores = cross_val_score(mn_clas, X3, Y, cv=5)\n",
    "svc_scores = cross_val_score(svc_clas, X3, Y, cv=5)\n",
    "rf_scores = cross_val_score(rf_clas, X3, Y, cv=5)"
   ]
  },
  {
   "cell_type": "code",
   "execution_count": 69,
   "metadata": {},
   "outputs": [
    {
     "name": "stdout",
     "output_type": "stream",
     "text": [
      "Naive Bayes score:  59.22%\n",
      "Linear SVC score:  60.02%\n",
      "Random Forest score:  65.00%\n"
     ]
    }
   ],
   "source": [
    "print(\"Naive Bayes score: \", print_percent(mn_scores.mean()))\n",
    "print(\"Linear SVC score: \", print_percent(svc_scores.mean()))\n",
    "print(\"Random Forest score: \", print_percent(rf_scores.mean()))"
   ]
  },
  {
   "cell_type": "markdown",
   "metadata": {},
   "source": [
    "## Model 4: Training with `text`, `useful` and `cool` Votes\n",
    "\n",
    "Finally we will carry out the analysis with text, `useful` & `cool` votes."
   ]
  },
  {
   "cell_type": "code",
   "execution_count": 70,
   "metadata": {},
   "outputs": [
    {
     "name": "stdout",
     "output_type": "stream",
     "text": [
      "shape of uc_sparse_train:  (10000, 2)\n"
     ]
    }
   ],
   "source": [
    "uc_sparse_train = normalize(csr_matrix(X[['cool', 'useful']]))\n",
    "print(\"shape of uc_sparse_train: \", uc_sparse_train.shape)"
   ]
  },
  {
   "cell_type": "code",
   "execution_count": 71,
   "metadata": {},
   "outputs": [
    {
     "name": "stdout",
     "output_type": "stream",
     "text": [
      "shape of X4:  (10000, 48023)\n"
     ]
    }
   ],
   "source": [
    "X4 = hstack([X1, uc_sparse_train])\n",
    "print(\"shape of X4: \", X4.shape)"
   ]
  },
  {
   "cell_type": "markdown",
   "metadata": {},
   "source": [
    "Note that the features of X4 has increased by 2 since now we have the `useful` and `cool` columns as features for training."
   ]
  },
  {
   "cell_type": "code",
   "execution_count": 72,
   "metadata": {},
   "outputs": [],
   "source": [
    "mn_scores = cross_val_score(mn_clas, X4, Y, cv=5)\n",
    "svc_scores = cross_val_score(svc_clas, X4, Y, cv=5)\n",
    "rf_scores = cross_val_score(rf_clas, X4, Y, cv=5)"
   ]
  },
  {
   "cell_type": "code",
   "execution_count": 73,
   "metadata": {},
   "outputs": [
    {
     "name": "stdout",
     "output_type": "stream",
     "text": [
      "Naive Bayes score:  81.94%\n",
      "Linear SVC score:  99.99%\n",
      "Random Forest score:  92.23%\n"
     ]
    }
   ],
   "source": [
    "print(\"Naive Bayes score: \", print_percent(mn_scores.mean()))\n",
    "print(\"Linear SVC score: \", print_percent(svc_scores.mean()))\n",
    "print(\"Random Forest score: \", print_percent(rf_scores.mean()))"
   ]
  },
  {
   "cell_type": "markdown",
   "metadata": {},
   "source": [
    "## Summary\n",
    "\n",
    "The goal of this project was to determine whether `useful` votes received by reviews on Yelp are biased. To understand the presence of any such relationship, we carried out training in four stages:\n",
    "1. To establish a benchmark, we carried out supervised learning of our model on the text of reviews.\n",
    "2. Next, the useful votes previously received by reviews are also added during training.\n",
    "3. For the third model, we trained with review text and `cool` votes which has the highest correlation with `useful` votes.\n",
    "4. Finally, for the fourth model we trained with text, `useful` and `cool` votes.\n",
    "\n",
    "**We observed that reviews that obtained a previously high number of `useful` votes were more likely to be voted `useful` in the future.**\n",
    "Model 1 and Model 3 share similar scores implying that `cool` votes dont cause too much bias towards usefulness of a review.\n",
    "Finally, Model 4 had the highest scores meaning `useful` and `cool` votes together cause maximum bias.\n",
    "\n",
    "\n",
    "| Models | Multinomial Naive Bayes| Linear SVM| Random Forest|\n",
    "|--------|------------------------|-----------|--------------|\n",
    "| Model 1|57.45%                  |56.80%     |57.79%        |\n",
    "| Model 2|58.07%                  |63.15%     |84.49%        |\n",
    "| Model 3|57.66%                  |59.56%     |65.06%        |\n",
    "| Model 4|82.10%                  |99.99%     |86.41%        |\n",
    "\n",
    "**Note**: The scores mentioned above may vary from what you observe as we are randomely sampling for 10,000 data points.\n"
   ]
  },
  {
   "cell_type": "markdown",
   "metadata": {},
   "source": [
    "## Recommendations\n",
    "\n",
    "1. After feature extraction, [feature selection](http://scikit-learn.org/stable/modules/feature_selection.html) will be helpful once the number of data points increases. Feature selection is a process whereby certain features within the model with low variance are removed. This is useful for us for the following reasons:\n",
    "    * reduces the training time of our classifiers\n",
    "    * reduces overfitting by generalizing the model\n",
    "    * reduces the complexity of the model as there are less features to deal with\n",
    "\n",
    "2. Improve label generation by using k-means to identify the labels\n",
    "Presently a Naive methodology has been used to determine the labels for the *useful* votes. A better solution would be to use [k-means](http://scikit-learn.org/stable/modules/clustering.html#k-means) to determine appropriate labels on the *useful* votes through clustering. This is because currently we are assuming that there are only two labels - *useful* and *not useful*; however, the data might indicate the presence of more than two such as *not useful*, *slightly useful*, *useful*, *very useful*, etc.\n",
    "\n",
    "3. Next, due to hardware limitations, we were only able to work with 10,000 data points. However, based on the [*learning curves*](http://scikit-learn.org/stable/modules/learning_curve.html#learning-curve) generated below for model 4 classifiers, we see that our models prediction rate will improve with increase in data points. \n",
    "\n",
    "4. Finally, additional [non-text features](https://www.yelp.ca/dataset/documentation/json) can be included to establish a stronger case for biasedness and pinpoint the specific features causing bias. Examples of such features are:\n",
    "    * presence of photos in reviews\n",
    "    * `useful` and `cool` votes given to users themselves for their contributions\n",
    "    * number of `fans` that the users have\n",
    "    * attributes of businesses such as `stars` rating and `number of reviews` they recieved\n",
    "\n",
    "Futhermore, bias due to ethicicty, demography, location, etc. of reviewers should be considered in further analysis."
   ]
  },
  {
   "cell_type": "code",
   "execution_count": 74,
   "metadata": {},
   "outputs": [],
   "source": [
    "mn_train_sizes, mn_train_scores, mn_valid_scores = learning_curve(mn_clas, X4, Y, cv=5)\n",
    "svc_train_sizes, svc_train_scores, svc_valid_scores = learning_curve(svc_clas, X4, Y, cv=5)\n",
    "rf_train_sizes, rf_train_scores, rf_valid_scores = learning_curve(rf_clas, X4, Y, cv=5)"
   ]
  },
  {
   "cell_type": "code",
   "execution_count": 75,
   "metadata": {},
   "outputs": [],
   "source": [
    "learning_curve_data = {'Multinomial Bayes': [mn_train_sizes, mn_train_scores, mn_valid_scores],\n",
    "                       'Linear SVM': [svc_train_sizes, svc_train_scores, svc_valid_scores],\n",
    "                       'Random Forest': [rf_train_sizes, rf_train_scores, rf_valid_scores]}"
   ]
  },
  {
   "cell_type": "code",
   "execution_count": 76,
   "metadata": {},
   "outputs": [
    {
     "data": {
      "text/plain": [
       "<matplotlib.figure.Figure at 0x10c3a6128>"
      ]
     },
     "metadata": {},
     "output_type": "display_data"
    },
    {
     "data": {
      "image/png": "[encoded data removed]",
      "text/plain": [
       "<matplotlib.figure.Figure at 0x10c3a6f60>"
      ]
     },
     "metadata": {},
     "output_type": "display_data"
    },
    {
     "data": {
      "text/plain": [
       "<matplotlib.figure.Figure at 0x10bff4748>"
      ]
     },
     "metadata": {},
     "output_type": "display_data"
    },
    {
     "data": {
      "image/png": "[encoded data removed]",
      "text/plain": [
       "<matplotlib.figure.Figure at 0x10873aba8>"
      ]
     },
     "metadata": {},
     "output_type": "display_data"
    },
    {
     "data": {
      "text/plain": [
       "<matplotlib.figure.Figure at 0x10b9396a0>"
      ]
     },
     "metadata": {},
     "output_type": "display_data"
    },
    {
     "data": {
      "image/png": "[encoded data removed]",
      "text/plain": [
       "<matplotlib.figure.Figure at 0x10beeed30>"
      ]
     },
     "metadata": {},
     "output_type": "display_data"
    }
   ],
   "source": [
    "## source: http://scikit-learn.org/stable/auto_examples/model_selection\n",
    "## /plot_learning_curve.html#sphx-glr-auto-examples-model-selection-plot-learning-curve-py \n",
    "\n",
    "for name, data in learning_curve_data.items():\n",
    "    plt.figure()\n",
    "    plt.figure(figsize=(7,5))\n",
    "    plt.title(\"Learning Curves  - {0}\".format(name))\n",
    "\n",
    "    plt.xlabel(\"Training examples\")\n",
    "    plt.ylabel(\"Scores\")\n",
    "\n",
    "    train_scores_mean = np.mean(data[1], axis=1)\n",
    "    train_scores_std = np.std(data[1], axis=1)\n",
    "\n",
    "    test_scores_mean = np.mean(data[2], axis=1)\n",
    "    test_scores_std = np.std(data[2], axis=1)\n",
    "\n",
    "    plt.grid()\n",
    "\n",
    "    plt.fill_between(data[0], train_scores_mean - train_scores_std,\n",
    "                     train_scores_mean + train_scores_std, alpha=0.1,\n",
    "                     color=\"r\")\n",
    "    plt.fill_between(data[0], test_scores_mean - test_scores_std,\n",
    "                     test_scores_mean + test_scores_std, alpha=0.1,\n",
    "                     color=\"g\")\n",
    "    plt.plot(data[0], train_scores_mean, 'o-', color=\"r\",\n",
    "             label=\"Training score\")\n",
    "    plt.plot(data[0], test_scores_mean, 'o-', color=\"g\",\n",
    "             label=\"Cross-validation score\")\n",
    "    plt.legend(loc=\"best\")"
   ]
  },
  {
   "cell_type": "markdown",
   "metadata": {},
   "source": [
    "## References:\n",
    "\n",
    "[1] \"Yelp Dataset\", Yelp, 2018. [Online]. Available: https://www.yelp.ca/dataset/. [Accessed: 09- Apr- 2018].\n",
    "\n",
    "[2] R. Shen, J. Shen, Y. Li and H. Wang, \"Predicting usefulness of Yelp reviews with localized linear regression models\", 2016 7th IEEE International Conference on Software Engineering and Service Science (ICSESS), 2016.\n",
    "\n",
    "[3] X. Liu, M. Schoemaker and N. Zhang, \"Predicting Usefulness of Yelp Reviews\", Stanford University, Stanford, 2014. http://cs229.stanford.edu/proj2014/Xinyue%20Liu,%20Michel%20Schoemaker,%20Nan%20Zhang,Predicting%20Usefulness%20of%20Yelp%20Reviews.pdf\n",
    "\n",
    "[4] H. Zhang, X. Li and K. Ying, \"Reviews Usefulness Prediction for Yelp Dataset\", UC San Diego, San Diego, 2014. https://cseweb.ucsd.edu/classes/wi17/cse258-a/reports/a040.pdf\n",
    "\n",
    "[5] M. Barakat, \"Predicting the Usefulness of a Yelp Review Using Machine Learning\", 2018. [Online]. Available: https://rstudio-pubs-static.s3.amazonaws.com/133133_fd7291a46ff547288a25af57b6b35100.html. [Accessed: 07- Apr- 2018].\n",
    "\n",
    "[6] A. Ghenai, \"What makes a review useful, funny or cool on Yelp.com\", Project report for CS886: Applied Machine Learning, 2015.\n",
    "\n",
    "[7] C. Danescu-Niculescu-Mizil, G. Kossinets, J. Kleinberg and L. Lee, \"How opinions are received by online communities\", Proceedings of the 18th international conference on World wide web - WWW '09, 2009.\n",
    "\n",
    "[8] P. Racherla and W. Friske, \"Perceived ‘usefulness’ of online consumer reviews: An exploratory investigation across three services categories\", Electronic Commerce Research and Applications, vol. 11, no. 6, pp. 548-559, 2012.\n",
    "\n",
    "[9] L. Li, K. Zhang, Q. Zhou and C. Zhang, \"Toward Understanding Review Usefulness: A Case Study on Yelp Restaurants\", iConference 2016 Proceedings. 2016.\n",
    "\n",
    "[10] J. Neumann, D. Gutt, D. Kundisch, and D. van Straaten, “When Local Praise Becomes Cheap Talk - Analyzing the Relationship between Reviewer Location and Usefulness of Online Reviews.” Proceedings of the Multikonferenz Wirtschaftsinformatik 2018 (MKWI), Lüneburg, Germany, 2018"
   ]
  }
 ],
 "metadata": {
  "kernelspec": {
   "display_name": "Python 3",
   "language": "python",
   "name": "python3"
  },
  "language_info": {
   "codemirror_mode": {
    "name": "ipython",
    "version": 3
   },
   "file_extension": ".py",
   "mimetype": "text/x-python",
   "name": "python",
   "nbconvert_exporter": "python",
   "pygments_lexer": "ipython3",
   "version": "3.6.5"
  }
 },
 "nbformat": 4,
 "nbformat_minor": 2
}
